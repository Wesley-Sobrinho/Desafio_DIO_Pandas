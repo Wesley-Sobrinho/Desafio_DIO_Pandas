{
 "cells": [
  {
   "cell_type": "markdown",
   "metadata": {
    "tags": [
     "parameters"
    ]
   },
   "source": [
    "<p>Python para análise de dados (pandas)</p>"
   ]
  },
  {
   "cell_type": "code",
   "execution_count": null,
   "metadata": {},
   "outputs": [],
   "source": [
    "# importando as bibliotécas \n",
    "\n",
    "import pandas as pd\n",
    "import numpy as np\n",
    "import matplotlib as plt"
   ]
  },
  {
   "cell_type": "code",
   "execution_count": null,
   "metadata": {},
   "outputs": [],
   "source": [
    "# Importando a base de dados ENEM 2021 BAHIA\n",
    "\n",
    "pd.set_option('display.max_columns', 100)        \n",
    "df = pd.read_excel('dados.xlsx')"
   ]
  },
  {
   "cell_type": "code",
   "execution_count": null,
   "metadata": {
    "tags": []
   },
   "outputs": [],
   "source": [
    "# tamanho da base de dados\n",
    "\n",
    "df.shape"
   ]
  },
  {
   "cell_type": "code",
   "execution_count": null,
   "metadata": {},
   "outputs": [],
   "source": [
    "# informações da base de dados\n",
    "df.info()"
   ]
  },
  {
   "cell_type": "code",
   "execution_count": null,
   "metadata": {},
   "outputs": [],
   "source": [
    "# Verificar missing (% ordenada de dados ausentes por coluna)\n",
    "\n",
    "(df.isnull().sum()/ df.shape[0]*100).sort_values(ascending=False)\n"
   ]
  },
  {
   "cell_type": "code",
   "execution_count": null,
   "metadata": {},
   "outputs": [],
   "source": [
    "# Quantidade de valores únicos por coluna\n",
    "df.nunique().sort_values(ascending=False)"
   ]
  },
  {
   "cell_type": "code",
   "execution_count": null,
   "metadata": {},
   "outputs": [],
   "source": [
    "# seleção das colunas categóricas\n",
    "df_cat = df.select_dtypes(include=[object]).columns.to_list()\n",
    "df_cat"
   ]
  },
  {
   "cell_type": "code",
   "execution_count": null,
   "metadata": {},
   "outputs": [],
   "source": [
    "# seleção das colunas numéricas\n",
    "df_num = df.select_dtypes(include=[float,int]).columns.to_list()\n",
    "df_num"
   ]
  },
  {
   "cell_type": "markdown",
   "metadata": {},
   "source": [
    "<p>Análise dos dados da redação</p>"
   ]
  },
  {
   "cell_type": "code",
   "execution_count": null,
   "metadata": {},
   "outputs": [],
   "source": [
    "# LEGENDA:\n",
    "\n",
    "# 1 = não informado\n",
    "# 2 = escola pública\n",
    "# 3 = escola privada"
   ]
  },
  {
   "cell_type": "code",
   "execution_count": null,
   "metadata": {},
   "outputs": [],
   "source": [
    "\n",
    "dadosRedacaoPorSexo = df[['TP_SEXO','TP_ESCOLA','NU_NOTA_REDACAO']].dropna().copy()\n",
    "dadosRedacaoPorSexo"
   ]
  },
  {
   "cell_type": "code",
   "execution_count": null,
   "metadata": {},
   "outputs": [],
   "source": [
    "dadosRedacaoPorSexo.groupby(['TP_SEXO']).describe().reset_index()"
   ]
  },
  {
   "cell_type": "code",
   "execution_count": null,
   "metadata": {},
   "outputs": [],
   "source": [
    "# Escola não informada (código 1)\n",
    "\n",
    "dadosRedacaoPorSexo.query('TP_ESCOLA  == 1').NU_NOTA_REDACAO.agg(['mean','median','max'])"
   ]
  },
  {
   "cell_type": "code",
   "execution_count": null,
   "metadata": {},
   "outputs": [],
   "source": [
    "# Escola pública (código 2)\n",
    "\n",
    "dadosRedacaoPorSexo.query('TP_ESCOLA  == 2').NU_NOTA_REDACAO.agg(['mean','median','max'])"
   ]
  },
  {
   "cell_type": "code",
   "execution_count": null,
   "metadata": {},
   "outputs": [],
   "source": [
    "# Escola privada (código 3)\n",
    "\n",
    "dadosRedacaoPorSexo.query('TP_ESCOLA  == 3').NU_NOTA_REDACAO.agg(['mean','median','max'])"
   ]
  },
  {
   "cell_type": "code",
   "execution_count": null,
   "metadata": {},
   "outputs": [],
   "source": [
    "# distribuição dos candidatos por sexo (%)\n",
    "\n",
    "(dadosRedacaoPorSexo.TP_SEXO.value_counts(ascending=False)/dadosRedacaoPorSexo.shape[0]*100).round(2)"
   ]
  },
  {
   "cell_type": "code",
   "execution_count": null,
   "metadata": {},
   "outputs": [],
   "source": [
    "# Nota máxima por sexo\n",
    "\n",
    "dadosRedacaoPorSexo.groupby('TP_SEXO').max().reset_index()"
   ]
  },
  {
   "cell_type": "code",
   "execution_count": null,
   "metadata": {},
   "outputs": [],
   "source": [
    "# Menores notas superiores a Zero/ por sexo\n",
    "\n",
    "dadosRedacaoPorSexo[dadosRedacaoPorSexo.NU_NOTA_REDACAO > 0].groupby(['TP_SEXO']).min().reset_index()"
   ]
  },
  {
   "cell_type": "code",
   "execution_count": null,
   "metadata": {},
   "outputs": [],
   "source": [
    "# Filtro das 10 maiores notas. \n",
    "\n",
    "dadosRedacaoPorSexo.sort_values('NU_NOTA_REDACAO', ascending= False).head(10).reset_index()\n",
    "\n"
   ]
  },
  {
   "cell_type": "code",
   "execution_count": null,
   "metadata": {},
   "outputs": [],
   "source": [
    "# Filtro das 15 menores notas superiores a zero (0). \n",
    "\n",
    "\n",
    "dadosRedacaoPorSexo[dadosRedacaoPorSexo.NU_NOTA_REDACAO > 0].sort_values('NU_NOTA_REDACAO', ascending= True).head(15).reset_index()\n"
   ]
  },
  {
   "cell_type": "code",
   "execution_count": null,
   "metadata": {},
   "outputs": [],
   "source": [
    "# histograma dos dados\n",
    "\n",
    "dadosRedacaoPorSexo.groupby(['TP_SEXO']).hist()"
   ]
  }
 ],
 "metadata": {
  "kernelspec": {
   "display_name": "venv",
   "language": "python",
   "name": "python3"
  },
  "language_info": {
   "codemirror_mode": {
    "name": "ipython",
    "version": 3
   },
   "file_extension": ".py",
   "mimetype": "text/x-python",
   "name": "python",
   "nbconvert_exporter": "python",
   "pygments_lexer": "ipython3",
   "version": "3.12.0"
  }
 },
 "nbformat": 4,
 "nbformat_minor": 2
}
